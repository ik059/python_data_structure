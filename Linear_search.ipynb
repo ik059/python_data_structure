{
 "cells": [
  {
   "cell_type": "code",
   "execution_count": 578,
   "id": "28f7f008-ed47-4496-bf7c-a704c748c7e7",
   "metadata": {},
   "outputs": [],
   "source": [
    "def find_card(cards, query):\n",
    "    position = None\n",
    "    if query not in cards:\n",
    "        position = -1\n",
    "        return position\n",
    "    else:\n",
    "        for index, card in enumerate(cards):\n",
    "            if card == query:\n",
    "                position = index+1\n",
    "                return position\n",
    "        \n",
    " "
   ]
  },
  {
   "cell_type": "code",
   "execution_count": 579,
   "id": "f3006ac0-98b3-49d8-89da-e3c51857480d",
   "metadata": {},
   "outputs": [],
   "source": [
    "tests = []"
   ]
  },
  {
   "cell_type": "code",
   "execution_count": 580,
   "id": "6319f26a-9362-4b2e-a3bb-759285655629",
   "metadata": {},
   "outputs": [],
   "source": [
    "tests.append({\n",
    "    'input':{\n",
    "        'cards': [12,11,10,8,7,6,4,1],\n",
    "        'query': 7\n",
    "    },\n",
    "    'output': 5\n",
    "})"
   ]
  },
  {
   "cell_type": "code",
   "execution_count": 581,
   "id": "3917a469-6911-448f-ad9b-7b1cc914164d",
   "metadata": {},
   "outputs": [],
   "source": [
    "tests.append({\n",
    "    'input':{\n",
    "        'cards': [7,6,5,4,2,1],\n",
    "        'query': 7\n",
    "    },\n",
    "    'output': 1\n",
    "})"
   ]
  },
  {
   "cell_type": "code",
   "execution_count": 582,
   "id": "bb53d1c1-ffff-4949-bbb8-f2b8176b0017",
   "metadata": {},
   "outputs": [],
   "source": [
    "tests.append({\n",
    "    'input':{\n",
    "        'cards': [14,12,12,11,10,9,8,7],\n",
    "        'query': 7\n",
    "    },\n",
    "    'output': 8\n",
    "})"
   ]
  },
  {
   "cell_type": "code",
   "execution_count": 583,
   "id": "8d67704a-795a-44e1-8673-769eaab768b5",
   "metadata": {},
   "outputs": [],
   "source": [
    "tests.append({\n",
    "    'input':{\n",
    "        'cards': [7],\n",
    "        'query': 7\n",
    "    },\n",
    "    'output': 1\n",
    "})"
   ]
  },
  {
   "cell_type": "code",
   "execution_count": 584,
   "id": "ac911e42-11b1-4ca0-8725-0c73fa1c3303",
   "metadata": {},
   "outputs": [],
   "source": [
    "tests.append({\n",
    "    'input':{\n",
    "        'cards': [6,5,4,2,1],\n",
    "        'query': 7\n",
    "    },\n",
    "    'output': -1\n",
    "})"
   ]
  },
  {
   "cell_type": "code",
   "execution_count": 585,
   "id": "9cb52d99-f761-4501-a44a-2b17eb6bae80",
   "metadata": {},
   "outputs": [],
   "source": [
    "tests.append({\n",
    "    'input':{\n",
    "        'cards': [],\n",
    "        'query': 7\n",
    "    },\n",
    "    'output': -1\n",
    "})"
   ]
  },
  {
   "cell_type": "code",
   "execution_count": 586,
   "id": "845f88fe-96d2-4872-9954-9d3e4e26b87c",
   "metadata": {},
   "outputs": [],
   "source": [
    "tests.append({\n",
    "    'input':{\n",
    "        'cards': [7,6,5,2,2,1],\n",
    "        'query': 1\n",
    "    },\n",
    "    'output': 6\n",
    "})"
   ]
  },
  {
   "cell_type": "code",
   "execution_count": 587,
   "id": "74159d9a-fa14-4827-8697-d3f67fdb8008",
   "metadata": {},
   "outputs": [],
   "source": [
    "tests.append({\n",
    "    'input':{\n",
    "        'cards': [7,6,5,7,2,1],\n",
    "        'query': 7\n",
    "    },\n",
    "    'output': 1\n",
    "    \n",
    "})"
   ]
  },
  {
   "cell_type": "code",
   "execution_count": 588,
   "id": "135e81cc-07a4-4946-a640-790ad1d8c2bb",
   "metadata": {},
   "outputs": [
    {
     "name": "stdout",
     "output_type": "stream",
     "text": [
      "Test passed: True\n",
      "Test passed: True\n",
      "Test passed: True\n",
      "Test passed: True\n",
      "Test passed: True\n",
      "Test passed: True\n",
      "Test passed: True\n",
      "Test passed: True\n"
     ]
    }
   ],
   "source": [
    "for test in tests:\n",
    "    print(f\"Test passed: {find_card(**test['input']) == test['output']}\")"
   ]
  },
  {
   "cell_type": "code",
   "execution_count": null,
   "id": "a3616225-ae1f-408c-887c-593c3a6d11db",
   "metadata": {},
   "outputs": [],
   "source": []
  }
 ],
 "metadata": {
  "kernelspec": {
   "display_name": "Python [conda env:base] *",
   "language": "python",
   "name": "conda-base-py"
  },
  "language_info": {
   "codemirror_mode": {
    "name": "ipython",
    "version": 3
   },
   "file_extension": ".py",
   "mimetype": "text/x-python",
   "name": "python",
   "nbconvert_exporter": "python",
   "pygments_lexer": "ipython3",
   "version": "3.12.7"
  }
 },
 "nbformat": 4,
 "nbformat_minor": 5
}
