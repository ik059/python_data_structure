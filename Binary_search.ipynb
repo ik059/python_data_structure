{
 "cells": [
  {
   "cell_type": "code",
   "execution_count": 1,
   "id": "145b6b4d-9201-4d5a-b109-531fec20d674",
   "metadata": {},
   "outputs": [],
   "source": [
    "import time"
   ]
  },
  {
   "cell_type": "code",
   "execution_count": 2,
   "id": "12994708-1957-49fa-a4d4-ece4f9f2b094",
   "metadata": {},
   "outputs": [],
   "source": [
    "def find_card_better_descending(cards, query):\n",
    "    lowest_index = 0\n",
    "    highest_index = len(cards) - 1\n",
    "\n",
    "    while lowest_index <= highest_index:\n",
    "        mid_index = (lowest_index + highest_index) // 2\n",
    "        mid_number = cards[mid_index]\n",
    "        first_number = cards[lowest_index]\n",
    "        last_number = cards[highest_index]\n",
    "\n",
    "        if query == first_number:\n",
    "            return lowest_index +1\n",
    "        elif query == last_number:\n",
    "            return highest_index +1\n",
    "        elif query == mid_number:\n",
    "            return mid_index + 1  # 1-based index\n",
    "        elif mid_number < query:\n",
    "            highest_index = mid_index - 1\n",
    "        else:\n",
    "            lowest_index = mid_index + 1\n",
    "\n",
    "    return -1\n"
   ]
  },
  {
   "cell_type": "code",
   "execution_count": 3,
   "id": "1b8acdf7-9545-4acf-99e3-87441ebb18e3",
   "metadata": {},
   "outputs": [],
   "source": [
    "tests = []"
   ]
  },
  {
   "cell_type": "code",
   "execution_count": 4,
   "id": "670d0067-636b-4276-a2e5-5d2c991539e8",
   "metadata": {},
   "outputs": [],
   "source": [
    "tests.append({\n",
    "    'input':{\n",
    "        'cards': [12,11,10,8,7,6,4,1],\n",
    "        'query': 7\n",
    "    },\n",
    "    'output': 5\n",
    "})"
   ]
  },
  {
   "cell_type": "code",
   "execution_count": 5,
   "id": "59acd064-e846-4893-9576-c6ecd8c931c6",
   "metadata": {},
   "outputs": [],
   "source": [
    "tests.append({\n",
    "    'input':{\n",
    "        'cards': [7,6,5,4,2,1],\n",
    "        'query': 7\n",
    "    },\n",
    "    'output': 1\n",
    "})"
   ]
  },
  {
   "cell_type": "code",
   "execution_count": 6,
   "id": "61e9e0e7-0cc4-4c1a-9f96-f3cea38d5209",
   "metadata": {},
   "outputs": [],
   "source": [
    "tests.append({\n",
    "    'input':{\n",
    "        'cards': [14,12,11,10,9,8,7],\n",
    "        'query': 7\n",
    "    },\n",
    "    'output': 7\n",
    "})"
   ]
  },
  {
   "cell_type": "code",
   "execution_count": 7,
   "id": "33f3d11f-8616-490b-8d45-a2f4c88209bd",
   "metadata": {},
   "outputs": [],
   "source": [
    "tests.append({\n",
    "    'input':{\n",
    "        'cards': [7],\n",
    "        'query': 7\n",
    "    },\n",
    "    'output': 1\n",
    "})"
   ]
  },
  {
   "cell_type": "code",
   "execution_count": 8,
   "id": "dd9348e2-abbd-4880-97f2-53aad7671dc3",
   "metadata": {},
   "outputs": [],
   "source": [
    "tests.append({\n",
    "    'input':{\n",
    "        'cards': [6,5,4,2,1],\n",
    "        'query': 7\n",
    "    },\n",
    "    'output': -1\n",
    "})"
   ]
  },
  {
   "cell_type": "code",
   "execution_count": 9,
   "id": "8d10bf99-f799-43fc-bf0f-7c86df3e84eb",
   "metadata": {},
   "outputs": [],
   "source": [
    "tests.append({\n",
    "    'input':{\n",
    "        'cards': [],\n",
    "        'query': 7\n",
    "    },\n",
    "    'output': -1\n",
    "})"
   ]
  },
  {
   "cell_type": "code",
   "execution_count": 10,
   "id": "522eb4ea-ff51-4bda-beaa-b24489e637d1",
   "metadata": {},
   "outputs": [],
   "source": [
    "tests.append({\n",
    "    'input':{\n",
    "        'cards': [7,6,5,2,2,1],\n",
    "        'query': 1\n",
    "    },\n",
    "    'output': 6\n",
    "})"
   ]
  },
  {
   "cell_type": "code",
   "execution_count": 11,
   "id": "99951ec0-cd94-44e6-923b-8e74569ddd6d",
   "metadata": {},
   "outputs": [],
   "source": [
    "tests.append({\n",
    "    'input':{\n",
    "        'cards': [9,7,6,7,7,7,7,5,7,2,1],\n",
    "        'query': 7\n",
    "    },\n",
    "    'output': 2\n",
    "    \n",
    "})"
   ]
  },
  {
   "cell_type": "code",
   "execution_count": 12,
   "id": "b8e5728d-abbe-4cbf-b1cc-c57a20779edf",
   "metadata": {},
   "outputs": [
    {
     "name": "stdout",
     "output_type": "stream",
     "text": [
      "Test passed: True & Time taken: 0.000000 seconds\n",
      "Test passed: True & Time taken: 0.000000 seconds\n",
      "Test passed: True & Time taken: 0.000000 seconds\n",
      "Test passed: True & Time taken: 0.000000 seconds\n",
      "Test passed: True & Time taken: 0.000000 seconds\n",
      "Test passed: True & Time taken: 0.000000 seconds\n",
      "Test passed: True & Time taken: 0.000000 seconds\n",
      "Test passed: False & Time taken: 0.000000 seconds\n"
     ]
    }
   ],
   "source": [
    "for test in tests:\n",
    "    start_time = time.time()\n",
    "    result = find_card_better_descending(**test['input']) == test['output']\n",
    "    end_time = time.time()\n",
    "    print(f\"Test passed: {result} & Time taken: {end_time - start_time:.6f} seconds\")"
   ]
  },
  {
   "cell_type": "code",
   "execution_count": null,
   "id": "44287f00-f0c3-4426-b145-8605aa339a1d",
   "metadata": {},
   "outputs": [],
   "source": []
  },
  {
   "cell_type": "code",
   "execution_count": null,
   "id": "37e2ceb8-254d-4478-87c4-7e5630b4e39b",
   "metadata": {},
   "outputs": [],
   "source": []
  }
 ],
 "metadata": {
  "kernelspec": {
   "display_name": "Python [conda env:base] *",
   "language": "python",
   "name": "conda-base-py"
  },
  "language_info": {
   "codemirror_mode": {
    "name": "ipython",
    "version": 3
   },
   "file_extension": ".py",
   "mimetype": "text/x-python",
   "name": "python",
   "nbconvert_exporter": "python",
   "pygments_lexer": "ipython3",
   "version": "3.12.7"
  }
 },
 "nbformat": 4,
 "nbformat_minor": 5
}
